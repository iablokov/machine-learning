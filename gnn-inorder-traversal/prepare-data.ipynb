{
 "cells": [
  {
   "cell_type": "markdown",
   "metadata": {},
   "source": [
    "# Prepare BST data"
   ]
  },
  {
   "cell_type": "markdown",
   "metadata": {},
   "source": [
    "This notebook is used to generate training/testing data that consists of\n",
    "* features : binary search trees (BSTs)\n",
    "* targets  : inorder traversals of the BSTs\n",
    "\n",
    "Each BST is a directed acyclic graph (DAG) that is being exported to the PyG-compatible format."
   ]
  },
  {
   "cell_type": "code",
   "execution_count": 7,
   "metadata": {},
   "outputs": [],
   "source": [
    "from typing import Optional"
   ]
  },
  {
   "cell_type": "markdown",
   "metadata": {},
   "source": [
    "### Tree functions"
   ]
  },
  {
   "cell_type": "code",
   "execution_count": 6,
   "metadata": {},
   "outputs": [],
   "source": [
    "class TreeNode:\n",
    "    def __init__(self, value):\n",
    "        self.value = value\n",
    "        self.left  = None\n",
    "        self.right = None"
   ]
  },
  {
   "cell_type": "code",
   "execution_count": 113,
   "metadata": {},
   "outputs": [],
   "source": [
    "def list_to_binary_tree(nums: list[int]) -> Optional[TreeNode]:\n",
    "    if not nums : return None\n",
    "\n",
    "    mid = len(nums) // 2\n",
    "    root = TreeNode(nums[mid])\n",
    "    root.left  = sorted_list_to_bst(nums[:mid])\n",
    "    root.right = sorted_list_to_bst(nums[mid+1:])\n",
    "\n",
    "    return root"
   ]
  },
  {
   "cell_type": "code",
   "execution_count": 16,
   "metadata": {},
   "outputs": [],
   "source": [
    "# Different input graphs can be fed into GNN:\n",
    "# 1. BSTs (i.e., representing a sorted list)\n",
    "# 2. Random trees\n",
    "\n",
    "# Add:\n",
    "# - We can also shuffle node indices to make the task harder\n",
    "# - A model trained on a BST can be tested on a random tree\n",
    "# - A model trained with original indices can be tested on shuffled indices"
   ]
  },
  {
   "cell_type": "code",
   "execution_count": 58,
   "metadata": {},
   "outputs": [],
   "source": [
    "def inorder_traversal(node, nodes, edges):\n",
    "    \"\"\" This function performs inorder traversal of a binary tree\n",
    "        and stores its nodes and edges. Edges are tuples of the \n",
    "        form (parent, child, direction) where 'parent' and 'child' \n",
    "        are node indices in the 'nodes' list and 'direction' is \n",
    "        either 0 (left) or 1 (right). \"\"\"\n",
    "\n",
    "    if node.left  : _, _, l_index = inorder_traversal(node.left, nodes, edges)\n",
    "    \n",
    "    n_index = len(nodes)      # index of the current node in 'nodes'\n",
    "    nodes.append(node.value)\n",
    "\n",
    "    if node.right : _, _, r_index = inorder_traversal(node.right, nodes, edges)\n",
    "    \n",
    "    if node.left  : edges.append((n_index, l_index, 0))\n",
    "    if node.right : edges.append((n_index, r_index, 1))\n",
    "\n",
    "    return nodes, edges, n_index"
   ]
  },
  {
   "cell_type": "code",
   "execution_count": 115,
   "metadata": {},
   "outputs": [
    {
     "data": {
      "text/plain": [
       "([1, 2, 3, 4, 5, 6, 7],\n",
       " [(1, 0, 0), (1, 2, 1), (5, 4, 0), (5, 6, 1), (3, 1, 0), (3, 5, 1)])"
      ]
     },
     "execution_count": 115,
     "metadata": {},
     "output_type": "execute_result"
    }
   ],
   "source": [
    "# Example usage\n",
    "nums = [1, 2, 3, 4, 5, 6, 7]\n",
    "bst  = list_to_binary_tree(sorted(nums))\n",
    "nodes, edges, _ = inorder_traversal(bst, [], [])\n",
    "nodes, edges"
   ]
  },
  {
   "cell_type": "markdown",
   "metadata": {},
   "source": [
    "### BST to PyG graph"
   ]
  },
  {
   "cell_type": "code",
   "execution_count": 105,
   "metadata": {},
   "outputs": [],
   "source": [
    "import torch\n",
    "from torch_geometric.data import Data"
   ]
  },
  {
   "cell_type": "code",
   "execution_count": 106,
   "metadata": {},
   "outputs": [],
   "source": [
    "def shuffle_graph(nodes, edges):\n",
    "    \"\"\" This function shuffles node indices and returns the new\n",
    "        node indices and the corresponding edge indices. \"\"\"\n",
    "\n",
    "    n = len(nodes)\n",
    "    perm = torch.randperm(n)\n",
    "    sh_nodes = nodes_x[perm]\n",
    "    sh_edges = edges.clone()\n",
    "    for i in range(n) : sh_edges[edges==perm[i]] = i\n",
    "\n",
    "    return sh_nodes, sh_edges"
   ]
  },
  {
   "cell_type": "code",
   "execution_count": 112,
   "metadata": {},
   "outputs": [],
   "source": [
    "def convert_bst_to_pyg(bst: TreeNode, shuffle: bool = False) -> Data:\n",
    "\n",
    "    nodes, edges, _ = inorder_traversal(bst, [], [])\n",
    "    \n",
    "    nodes_x = torch.tensor(nodes) \n",
    "    nodes_y = nodes_x.clone()\n",
    "    edges = torch.tensor(edges)\n",
    "    edge_index, edge_attr = edges[:,0:2].clone(), edges[:,2:3].clone()\n",
    "\n",
    "    if shuffle : nodes_x, edge_index = shuffle_graph(nodes_x, edge_index)\n",
    "\n",
    "    data = Data(x=nodes_x, edge_index=edge_index, edge_attr=edge_attr, y=nodes_y)\n",
    "\n",
    "    return data"
   ]
  },
  {
   "cell_type": "code",
   "execution_count": 116,
   "metadata": {},
   "outputs": [],
   "source": [
    "nums = [1, 2, 3, 4, 5, 6, 7]\n",
    "bst  = list_to_binary_tree(nums)\n",
    "data = convert_bst_to_pyg(bst, shuffle=True)"
   ]
  },
  {
   "cell_type": "code",
   "execution_count": 118,
   "metadata": {},
   "outputs": [
    {
     "data": {
      "text/plain": [
       "(tensor([1, 7, 4, 3, 6, 2, 5]),\n",
       " tensor([[5, 0],\n",
       "         [5, 3],\n",
       "         [4, 6],\n",
       "         [4, 1],\n",
       "         [2, 5],\n",
       "         [2, 4]]),\n",
       " tensor([[0],\n",
       "         [1],\n",
       "         [0],\n",
       "         [1],\n",
       "         [0],\n",
       "         [1]]),\n",
       " tensor([1, 2, 3, 4, 5, 6, 7]))"
      ]
     },
     "execution_count": 118,
     "metadata": {},
     "output_type": "execute_result"
    }
   ],
   "source": [
    "data.x, data.edge_index, data.edge_attr, data.y"
   ]
  },
  {
   "cell_type": "code",
   "execution_count": null,
   "metadata": {},
   "outputs": [],
   "source": []
  }
 ],
 "metadata": {
  "kernelspec": {
   "display_name": "ml-pytorch",
   "language": "python",
   "name": "python3"
  },
  "language_info": {
   "codemirror_mode": {
    "name": "ipython",
    "version": 3
   },
   "file_extension": ".py",
   "mimetype": "text/x-python",
   "name": "python",
   "nbconvert_exporter": "python",
   "pygments_lexer": "ipython3",
   "version": "3.11.4"
  },
  "orig_nbformat": 4
 },
 "nbformat": 4,
 "nbformat_minor": 2
}
