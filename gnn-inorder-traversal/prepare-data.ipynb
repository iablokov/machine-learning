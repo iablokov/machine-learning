{
 "cells": [
  {
   "cell_type": "markdown",
   "metadata": {},
   "source": [
    "# Prepare data"
   ]
  },
  {
   "cell_type": "markdown",
   "metadata": {},
   "source": [
    "This notebook is used to generate training/testing data that consists of\n",
    "* features : binary trees\n",
    "* targets  : inorder traversals of binary trees\n",
    "\n",
    "Each binary tree is a directed acyclic graph (DAG) that is being exported to the PyG-compatible format."
   ]
  },
  {
   "cell_type": "code",
   "execution_count": 2,
   "metadata": {},
   "outputs": [],
   "source": [
    "from typing import Optional"
   ]
  },
  {
   "cell_type": "markdown",
   "metadata": {},
   "source": [
    "### Tree functions"
   ]
  },
  {
   "cell_type": "code",
   "execution_count": 3,
   "metadata": {},
   "outputs": [],
   "source": [
    "class TreeNode:\n",
    "    def __init__(self, value):\n",
    "        self.value = value\n",
    "        self.left  = None\n",
    "        self.right = None"
   ]
  },
  {
   "cell_type": "code",
   "execution_count": 4,
   "metadata": {},
   "outputs": [],
   "source": [
    "import random\n",
    "\n",
    "def list_to_binary_tree(nums: list[int], balanced=True) -> Optional[TreeNode]:\n",
    "    \"\"\" Convert a list of numbers to a binary tree. \"\"\"\n",
    "    \n",
    "    if not nums : return None\n",
    "\n",
    "    if balanced : mid = len(nums) // 2\n",
    "    else        : mid = random.randint(0, len(nums)-1)\n",
    "\n",
    "    root = TreeNode(nums[mid])\n",
    "    root.left  = list_to_binary_tree(nums[:mid], balanced)\n",
    "    root.right = list_to_binary_tree(nums[mid+1:], balanced)\n",
    "\n",
    "    return root"
   ]
  },
  {
   "cell_type": "code",
   "execution_count": 5,
   "metadata": {},
   "outputs": [],
   "source": [
    "# Different input graphs can be fed into GNN:\n",
    "# 1. BSTs (i.e., representing a sorted list)\n",
    "# 2. Random trees\n",
    "# 3. Balanced vs unbalcanced trees\n",
    "\n",
    "# Add:\n",
    "# - We can also shuffle node indices to make the task harder\n",
    "# - A model trained on a BST can be tested on a random tree\n",
    "# - A model trained with original indices can be tested on shuffled indices\n",
    "# - A model trained on balanced trees can be tested on unbalanced trees and vice versa"
   ]
  },
  {
   "cell_type": "code",
   "execution_count": 6,
   "metadata": {},
   "outputs": [],
   "source": [
    "def inorder_traversal(node, nodes, edges):\n",
    "    \"\"\" \n",
    "        This function performs inorder traversal of a binary tree\n",
    "        and stores its nodes and edges. Edges are tuples of the \n",
    "        form (parent, child, direction) where 'parent' and 'child' \n",
    "        are node indices in the 'nodes' list and 'direction' is \n",
    "        either 0 (left) or 1 (right).\n",
    "    \"\"\"\n",
    "\n",
    "    if node.left  : _, _, l_index = inorder_traversal(node.left, nodes, edges)\n",
    "    \n",
    "    n_index = len(nodes)      # index of the current node in 'nodes'\n",
    "    nodes.append(node.value)\n",
    "\n",
    "    if node.right : _, _, r_index = inorder_traversal(node.right, nodes, edges)\n",
    "    \n",
    "    if node.left  : edges.append((n_index, l_index, 0))\n",
    "    if node.right : edges.append((n_index, r_index, 1))\n",
    "\n",
    "    return nodes, edges, n_index"
   ]
  },
  {
   "cell_type": "markdown",
   "metadata": {},
   "source": [
    "### BST to PyG graph"
   ]
  },
  {
   "cell_type": "code",
   "execution_count": 10,
   "metadata": {},
   "outputs": [],
   "source": [
    "import torch\n",
    "from torch_geometric.data import Data"
   ]
  },
  {
   "cell_type": "code",
   "execution_count": 11,
   "metadata": {},
   "outputs": [],
   "source": [
    "def shuffle_graph(nodes, edges):\n",
    "    \"\"\" This function shuffles node indices and returns the new\n",
    "        node indices and the corresponding edge indices. \"\"\"\n",
    "\n",
    "    n = len(nodes)\n",
    "    perm = torch.randperm(n)\n",
    "    sh_nodes = nodes[perm]\n",
    "    sh_edges = edges.clone()\n",
    "    for i in range(n) : sh_edges[edges==perm[i]] = i\n",
    "\n",
    "    return sh_nodes, sh_edges"
   ]
  },
  {
   "cell_type": "code",
   "execution_count": 27,
   "metadata": {},
   "outputs": [],
   "source": [
    "def binary_tree_to_pyg(tree: TreeNode, shuffle: bool = False) -> Data:\n",
    "\n",
    "    nodes, edges, _ = inorder_traversal(tree, [], [])\n",
    "    \n",
    "    nodes_x = torch.tensor(nodes) \n",
    "    nodes_y = nodes_x.clone()\n",
    "    edges = torch.tensor(edges)\n",
    "    edge_index, edge_attr = edges[:,0:2].clone(), edges[:,2:3].clone()\n",
    "\n",
    "    if shuffle : nodes_x, edge_index = shuffle_graph(nodes_x, edge_index)\n",
    "\n",
    "    data = Data(x=nodes_x, edge_index=edge_index, edge_attr=edge_attr, y=nodes_y)\n",
    "\n",
    "    return data"
   ]
  },
  {
   "cell_type": "code",
   "execution_count": null,
   "metadata": {},
   "outputs": [],
   "source": []
  },
  {
   "cell_type": "code",
   "execution_count": 28,
   "metadata": {},
   "outputs": [],
   "source": [
    "from torch_geometric.data import InMemoryDataset"
   ]
  },
  {
   "cell_type": "code",
   "execution_count": 29,
   "metadata": {},
   "outputs": [],
   "source": [
    "dataset_size = 5\n",
    "min_value, max_value = -1000, 1000\n",
    "min_nodes, max_nodes = 10, 100\n",
    "\n",
    "dataset_name = \"balanced-shuffled\"\n",
    "path_dataset = f\"./data/{dataset_name}\"\n"
   ]
  },
  {
   "cell_type": "code",
   "execution_count": 30,
   "metadata": {},
   "outputs": [],
   "source": [
    "# hyperparameters: balanced, shuffle nodes\n",
    "dataset = []\n",
    "for _ in range(dataset_size):\n",
    "    \n",
    "    n_nodes = random.randint(min_nodes, max_nodes)\n",
    "    nums = random.sample(range(min_value, max_value + 1), n_nodes)\n",
    "    binary_tree = list_to_binary_tree(nums, balanced=True)\n",
    "    sample = binary_tree_to_pyg(binary_tree, shuffle=True)\n",
    "    dataset.append(sample)"
   ]
  },
  {
   "cell_type": "code",
   "execution_count": 31,
   "metadata": {},
   "outputs": [
    {
     "data": {
      "text/plain": [
       "[Data(x=[66], edge_index=[65, 2], edge_attr=[65, 1], y=[66]),\n",
       " Data(x=[47], edge_index=[46, 2], edge_attr=[46, 1], y=[47]),\n",
       " Data(x=[11], edge_index=[10, 2], edge_attr=[10, 1], y=[11]),\n",
       " Data(x=[91], edge_index=[90, 2], edge_attr=[90, 1], y=[91]),\n",
       " Data(x=[17], edge_index=[16, 2], edge_attr=[16, 1], y=[17])]"
      ]
     },
     "execution_count": 31,
     "metadata": {},
     "output_type": "execute_result"
    }
   ],
   "source": [
    "dataset"
   ]
  },
  {
   "cell_type": "code",
   "execution_count": null,
   "metadata": {},
   "outputs": [],
   "source": []
  }
 ],
 "metadata": {
  "kernelspec": {
   "display_name": "ml-pytorch",
   "language": "python",
   "name": "python3"
  },
  "language_info": {
   "codemirror_mode": {
    "name": "ipython",
    "version": 3
   },
   "file_extension": ".py",
   "mimetype": "text/x-python",
   "name": "python",
   "nbconvert_exporter": "python",
   "pygments_lexer": "ipython3",
   "version": "3.11.4"
  },
  "orig_nbformat": 4
 },
 "nbformat": 4,
 "nbformat_minor": 2
}
